{
  "nbformat": 4,
  "nbformat_minor": 0,
  "metadata": {
    "colab": {
      "name": "Vision Dataset_Set2_group_113.ipynb",
      "provenance": [],
      "authorship_tag": "ABX9TyNWMeJiLAykv5IvIe3O1hOw",
      "include_colab_link": true
    },
    "kernelspec": {
      "name": "python3",
      "display_name": "Python 3"
    },
    "language_info": {
      "name": "python"
    }
  },
  "cells": [
    {
      "cell_type": "markdown",
      "metadata": {
        "id": "view-in-github",
        "colab_type": "text"
      },
      "source": [
        "<a href=\"https://colab.research.google.com/github/ashutoshsingh1/Predict-tags-on-StackOverflow-with-linear-models/blob/master/Vision_Dataset_Set2_group_113.ipynb\" target=\"_parent\"><img src=\"https://colab.research.google.com/assets/colab-badge.svg\" alt=\"Open In Colab\"/></a>"
      ]
    },
    {
      "cell_type": "markdown",
      "source": [
        "**Question No.1. Vision Dataset: CIFAR-10- It dataset consists of 60000 32x32 colour images in 10\n",
        "classes. Please find your dataset from the link - https://www.tensorflow.org/datasets/catalog/cifar10 (Links to an external site.)**   (6 marks)\n",
        "\n",
        " \n",
        "\n",
        "Import Libraries/Dataset (0 mark)\n",
        "Import the required libraries and the dataset (use Google Drive if required).\n",
        "Check the GPU available (recommended- use free GPU provided by Google Colab).\n",
        " \n",
        "\n",
        "Data Visualization and augmentation (1 mark)\n",
        "Plot at least two samples from each class of the dataset (use matplotlib/seaborn/any other library).\n",
        "Apply rotation and height shift augmentation (rotation_range, height_shift_range)to the dataset separately. Print the augmented image and the original image for each class and each augmentation.\n",
        "Bring the train and test data in the required format.\n",
        "Print the shapes of train and test data.\n",
        " \n",
        "\n",
        "Model Building (0.2*5 = 1 mark)\n",
        "Sequential Model layers- Use AT LEAST 3 hidden layers with appropriate input for each. Choose the best number for hidden units and give reasons.\n",
        "Add L2 regularization to all the layers.\n",
        "Add one layer of dropout at the appropriate position and give reasons.\n",
        "Choose the appropriate activation function for all the layers.\n",
        "Print the model summary.\n",
        " \n",
        "\n",
        "Model Compilation (0.25 mark)\n",
        "Compile the model with the appropriate loss function.\n",
        "Use an appropriate optimizer. Give reasons for the choice of learning rate and its value.\n",
        "Use accuracy as a metric.\n",
        " \n",
        "\n",
        "Model Training (0.5 + 0.25 = 0.75 mark)\n",
        "Train the model for an appropriate number of epochs. Print the train and validation accuracy and loss for each epoch. Use the appropriate batch size.\n",
        "Plot the loss and accuracy history graphs for both train and validation set. Print the total time taken for training.\n",
        " \n",
        "\n",
        "Model Evaluation (0.5 + 0.5 = 1 mark)\n",
        "Print the final train and validation loss and accuracy. Print confusion matrix and classification report for the validation dataset. Analyse and report the best and worst performing class.\n",
        "Print the two most incorrectly classified images for each class in the test dataset.\n",
        " \n",
        "\n",
        "Hyperparameter Tuning- Build two more additional models by changing the following hyperparameters ONE at a time. Write the code for Model Building, Model Compilation, Model Training and Model Evaluation as given in the instructions above for each additional model. (1 + 1 = 2 marks)\n",
        "\n",
        "Optimiser: Use a different optimizer with the appropriate LR value.\n",
        "Network Depth: Change the number of hidden layers and hidden units for each layer.\n",
        "Write a comparison between each model and give reasons for the difference in results.\n",
        "\n",
        " "
      ],
      "metadata": {
        "id": "NtZ__-S640u_"
      }
    },
    {
      "cell_type": "markdown",
      "source": [
        "# 1. **Import Libraries/Dataset (0 mark)**<BR>\n",
        "Import the required libraries and the dataset (use Google Drive if required).\n",
        "Check the GPU available (recommended- use free GPU provided by Google Colab).\n"
      ],
      "metadata": {
        "id": "Vkzs-O0I_Oug"
      }
    },
    {
      "cell_type": "markdown",
      "source": [
        "####Import libraries\n",
        "\n"
      ],
      "metadata": {
        "id": "wIn_x-Ka8GVk"
      }
    },
    {
      "cell_type": "code",
      "execution_count": null,
      "metadata": {
        "id": "PysFbs634kY2"
      },
      "outputs": [],
      "source": [
        ""
      ]
    },
    {
      "cell_type": "markdown",
      "source": [
        "####Import dataset"
      ],
      "metadata": {
        "id": "M5-d_qTs9IrY"
      }
    },
    {
      "cell_type": "code",
      "source": [
        ""
      ],
      "metadata": {
        "id": "R3v7bBf79MBH"
      },
      "execution_count": null,
      "outputs": []
    },
    {
      "cell_type": "markdown",
      "source": [
        "####Available GPU"
      ],
      "metadata": {
        "id": "38h3jOvsDOBG"
      }
    },
    {
      "cell_type": "code",
      "source": [
        ""
      ],
      "metadata": {
        "id": "Cj7by7MDDRLw"
      },
      "execution_count": null,
      "outputs": []
    },
    {
      "cell_type": "markdown",
      "source": [
        "# 2. **Data Visualization and augmentation (1 mark)**<BR> Plot at least two samples from each class of the dataset (use matplotlib/seaborn/any other library). Apply rotation and height shift augmentation (rotation_range, height_shift_range)to the dataset separately. Print the augmented image and the original image for each class and each augmentation. Bring the train and test data in the required format. Print the shapes of train and test data."
      ],
      "metadata": {
        "id": "X2k2_n7N9Mxy"
      }
    },
    {
      "cell_type": "markdown",
      "source": [
        "####Plot at least two samples from each class of the dataset (use matplotlib/seaborn/any other library)."
      ],
      "metadata": {
        "id": "Kel9iH7MDX32"
      }
    },
    {
      "cell_type": "code",
      "source": [
        ""
      ],
      "metadata": {
        "id": "gDuFMBUy9jnY"
      },
      "execution_count": null,
      "outputs": []
    },
    {
      "cell_type": "markdown",
      "source": [
        "####Apply rotation and height shift augmentation (rotation_range, height_shift_range)to the dataset separately."
      ],
      "metadata": {
        "id": "1BI-ERz0DcsP"
      }
    },
    {
      "cell_type": "code",
      "source": [
        ""
      ],
      "metadata": {
        "id": "mYf4cfYPDj-T"
      },
      "execution_count": null,
      "outputs": []
    },
    {
      "cell_type": "markdown",
      "source": [
        "####Print the augmented image and the original image for each class and each augmentation."
      ],
      "metadata": {
        "id": "2dvEjWOzDkwM"
      }
    },
    {
      "cell_type": "code",
      "source": [
        ""
      ],
      "metadata": {
        "id": "ie_-dbClDrI7"
      },
      "execution_count": null,
      "outputs": []
    },
    {
      "cell_type": "markdown",
      "source": [
        "####Bring the train and test data in the required format. Print the shapes of train and test data."
      ],
      "metadata": {
        "id": "WozkBgvJDsIQ"
      }
    },
    {
      "cell_type": "code",
      "source": [
        ""
      ],
      "metadata": {
        "id": "rUvQJiYTD0eZ"
      },
      "execution_count": null,
      "outputs": []
    },
    {
      "cell_type": "markdown",
      "source": [
        "# 3. **Model Building (0.2*5 = 1 mark)**<BR> Sequential Model layers- Use AT LEAST 3 hidden layers with appropriate input for each. Choose the best number for hidden units and give reasons. Add L2 regularization to all the layers. Add one layer of dropout at the appropriate position and give reasons. Choose the appropriate activation function for all the layers. Print the model summary."
      ],
      "metadata": {
        "id": "Fw4Qnk869kkl"
      }
    },
    {
      "cell_type": "markdown",
      "source": [
        "####Sequential Model layers- Use AT LEAST 3 hidden layers with appropriate input for each."
      ],
      "metadata": {
        "id": "Nqt7fIyVEA0m"
      }
    },
    {
      "cell_type": "code",
      "source": [
        ""
      ],
      "metadata": {
        "id": "jVH0gcmpECsc"
      },
      "execution_count": null,
      "outputs": []
    },
    {
      "cell_type": "markdown",
      "source": [
        "####Choose the best number for hidden units and give reasons."
      ],
      "metadata": {
        "id": "jgvVHzn8EDbC"
      }
    },
    {
      "cell_type": "code",
      "source": [
        ""
      ],
      "metadata": {
        "id": "LfdpXFuq9u-R"
      },
      "execution_count": null,
      "outputs": []
    },
    {
      "cell_type": "markdown",
      "source": [
        "####Add L2 regularization to all the layers."
      ],
      "metadata": {
        "id": "1zs7jh_NEOph"
      }
    },
    {
      "cell_type": "code",
      "source": [
        ""
      ],
      "metadata": {
        "id": "UaAhZEMbEQLy"
      },
      "execution_count": null,
      "outputs": []
    },
    {
      "cell_type": "markdown",
      "source": [
        "####Add one layer of dropout at the appropriate position and give reasons."
      ],
      "metadata": {
        "id": "zTPDIVhYEQ6F"
      }
    },
    {
      "cell_type": "code",
      "source": [
        ""
      ],
      "metadata": {
        "id": "IkTlxZkxEbTi"
      },
      "execution_count": null,
      "outputs": []
    },
    {
      "cell_type": "markdown",
      "source": [
        "####Choose the appropriate activation function for all the layers."
      ],
      "metadata": {
        "id": "4rumw8FwEcJ1"
      }
    },
    {
      "cell_type": "code",
      "source": [
        ""
      ],
      "metadata": {
        "id": "KW_UCQDPEf-W"
      },
      "execution_count": null,
      "outputs": []
    },
    {
      "cell_type": "markdown",
      "source": [
        "#### Print the model summary."
      ],
      "metadata": {
        "id": "G611H0AEEght"
      }
    },
    {
      "cell_type": "code",
      "source": [
        ""
      ],
      "metadata": {
        "id": "-hsMO1NeEjHE"
      },
      "execution_count": null,
      "outputs": []
    },
    {
      "cell_type": "markdown",
      "source": [
        "#4. **Model Training (0.5 + 0.25 = 0.75 mark)**<BR> Train the model for an appropriate number of epochs. Print the train and validation accuracy and loss for each epoch. Use the appropriate batch size. Plot the loss and accuracy history graphs for both train and validation set. Print the total time taken for training"
      ],
      "metadata": {
        "id": "AD2miZAY9vn4"
      }
    },
    {
      "cell_type": "code",
      "source": [
        ""
      ],
      "metadata": {
        "id": "iMHpvGwN94jY"
      },
      "execution_count": null,
      "outputs": []
    },
    {
      "cell_type": "markdown",
      "source": [
        "#5. **Model Evaluation (0.5 + 0.5 = 1 mark)**<BR> Print the final train and validation loss and accuracy. Print confusion matrix and classification report for the validation dataset. Analyse and report the best and worst performing class. Print the two most incorrectly classified images for each class in the test dataset."
      ],
      "metadata": {
        "id": "VFm16DlD95Vo"
      }
    },
    {
      "cell_type": "code",
      "source": [
        ""
      ],
      "metadata": {
        "id": "sZV-Tozu-BQH"
      },
      "execution_count": null,
      "outputs": []
    },
    {
      "cell_type": "markdown",
      "source": [
        "#6. **Hyperparameter Tuning-**<BR> Build two more additional models by changing the following hyperparameters ONE at a time. Write the code for Model Building, Model Compilation, Model Training and Model Evaluation as given in the instructions above for each additional model. (1 + 1 = 2 marks)"
      ],
      "metadata": {
        "id": "3psZhOKG-Bzf"
      }
    },
    {
      "cell_type": "markdown",
      "source": [
        "####Build two more additional models by changing the following hyperparameters ONE at a time."
      ],
      "metadata": {
        "id": "oG3nJi0YEuWY"
      }
    },
    {
      "cell_type": "code",
      "source": [
        ""
      ],
      "metadata": {
        "id": "yEkT64-BEsYS"
      },
      "execution_count": null,
      "outputs": []
    },
    {
      "cell_type": "markdown",
      "source": [
        "####Write the code for Model Building, Model Compilation, Model Training and Model Evaluation as given in the instructions above for each additional model."
      ],
      "metadata": {
        "id": "a4bg1XrjFaqy"
      }
    },
    {
      "cell_type": "code",
      "source": [
        ""
      ],
      "metadata": {
        "id": "-PqxMqZY-MOF"
      },
      "execution_count": null,
      "outputs": []
    },
    {
      "cell_type": "markdown",
      "source": [
        "#7. **Optimiser:**<BR> Use a different optimizer with the appropriate LR value. Network Depth: Change the number of hidden layers and hidden units for each layer. Write a comparison between each model and give reasons for the difference in results."
      ],
      "metadata": {
        "id": "PTadirB4-M2T"
      }
    },
    {
      "cell_type": "markdown",
      "source": [
        "####Use a different optimizer with the appropriate LR value. Network Depth: Change the number of hidden layers and hidden units for each layer."
      ],
      "metadata": {
        "id": "ucoD298AGNpr"
      }
    },
    {
      "cell_type": "code",
      "source": [
        ""
      ],
      "metadata": {
        "id": "CrIMQnOS-TP6"
      },
      "execution_count": null,
      "outputs": []
    },
    {
      "cell_type": "markdown",
      "source": [
        "####Write a comparison between each model and give reasons for the difference in results."
      ],
      "metadata": {
        "id": "rZms6-WMFsLJ"
      }
    },
    {
      "cell_type": "code",
      "source": [
        ""
      ],
      "metadata": {
        "id": "ecpgghztFypI"
      },
      "execution_count": null,
      "outputs": []
    }
  ]
}