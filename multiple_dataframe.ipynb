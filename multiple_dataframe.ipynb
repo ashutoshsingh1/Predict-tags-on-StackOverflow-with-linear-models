{
  "nbformat": 4,
  "nbformat_minor": 0,
  "metadata": {
    "colab": {
      "provenance": [],
      "authorship_tag": "ABX9TyPCrNvuNI3HW0d2V2+J3dNb",
      "include_colab_link": true
    },
    "kernelspec": {
      "name": "python3",
      "display_name": "Python 3"
    },
    "language_info": {
      "name": "python"
    }
  },
  "cells": [
    {
      "cell_type": "markdown",
      "metadata": {
        "id": "view-in-github",
        "colab_type": "text"
      },
      "source": [
        "<a href=\"https://colab.research.google.com/github/ashutoshsingh1/Predict-tags-on-StackOverflow-with-linear-models/blob/master/multiple_dataframe.ipynb\" target=\"_parent\"><img src=\"https://colab.research.google.com/assets/colab-badge.svg\" alt=\"Open In Colab\"/></a>"
      ]
    },
    {
      "cell_type": "code",
      "execution_count": 1,
      "metadata": {
        "id": "0oz7fuA8bAUA"
      },
      "outputs": [],
      "source": [
        "import sympy"
      ]
    },
    {
      "cell_type": "code",
      "source": [
        "equation = \"SN=~((A^B)^CI):CON=~((A&B)|(A&CI)|(B&CI))\""
      ],
      "metadata": {
        "id": "WvavY5iJblvr"
      },
      "execution_count": 2,
      "outputs": []
    },
    {
      "cell_type": "code",
      "source": [
        "from sympy import *\n",
        "init_printing(\"mathjax\") # sympy expression printing"
      ],
      "metadata": {
        "id": "7g8RnUqRbtXy"
      },
      "execution_count": 3,
      "outputs": []
    },
    {
      "cell_type": "code",
      "source": [
        "A,B,CI = symbols(\"A,B,CI\", bool=True)"
      ],
      "metadata": {
        "id": "dpjpjArckt82"
      },
      "execution_count": 4,
      "outputs": []
    },
    {
      "cell_type": "code",
      "source": [
        "_ = ~((A^B)^CI)\n"
      ],
      "metadata": {
        "id": "QjDghKv8mLrt"
      },
      "execution_count": 5,
      "outputs": []
    },
    {
      "cell_type": "code",
      "source": [
        "simplify(_)"
      ],
      "metadata": {
        "colab": {
          "base_uri": "https://localhost:8080/",
          "height": 38
        },
        "id": "ZSgCLpXtbelX",
        "outputId": "f3db6784-61de-4ea3-e700-499e263830b1"
      },
      "execution_count": 6,
      "outputs": [
        {
          "output_type": "execute_result",
          "data": {
            "text/plain": [
              "(A ∧ B ∧ ¬CI) ∨ (A ∧ CI ∧ ¬B) ∨ (B ∧ CI ∧ ¬A) ∨ (¬A ∧ ¬B ∧ ¬CI)"
            ],
            "text/latex": "$\\displaystyle \\left(A \\wedge B \\wedge \\neg CI\\right) \\vee \\left(A \\wedge CI \\wedge \\neg B\\right) \\vee \\left(B \\wedge CI \\wedge \\neg A\\right) \\vee \\left(\\neg A \\wedge \\neg B \\wedge \\neg CI\\right)$"
          },
          "metadata": {},
          "execution_count": 6
        }
      ]
    },
    {
      "cell_type": "code",
      "source": [
        "from sympy.logic.inference import satisfiable\n",
        "from sympy import Symbol, Mod, Integer, print_latex\n"
      ],
      "metadata": {
        "id": "4xb1e5vIghLH"
      },
      "execution_count": 7,
      "outputs": []
    },
    {
      "cell_type": "code",
      "source": [
        "satisfiable(_)"
      ],
      "metadata": {
        "colab": {
          "base_uri": "https://localhost:8080/"
        },
        "id": "sLDFpOu7gitk",
        "outputId": "cfb1560a-34c5-4bb2-da7d-8c7b3c55331c"
      },
      "execution_count": 8,
      "outputs": [
        {
          "output_type": "execute_result",
          "data": {
            "text/plain": [
              "{CI: False, B: False, A: False}"
            ]
          },
          "metadata": {},
          "execution_count": 8
        }
      ]
    },
    {
      "cell_type": "code",
      "source": [
        "from sympy.parsing.mathematica import parse_mathematica\n",
        "parsing.sympy_parser.parse_expr(str(_))"
      ],
      "metadata": {
        "colab": {
          "base_uri": "https://localhost:8080/",
          "height": 38
        },
        "id": "HKOpMKd9i3Ry",
        "outputId": "45cb64c5-6463-4545-9c35-f13a7774802d"
      },
      "execution_count": 9,
      "outputs": [
        {
          "output_type": "execute_result",
          "data": {
            "text/plain": [
              "¬(A ⊻ B ⊻ CI)"
            ],
            "text/latex": "$\\displaystyle \\neg \\left(A \\veebar B \\veebar CI\\right)$"
          },
          "metadata": {},
          "execution_count": 9
        }
      ]
    },
    {
      "cell_type": "code",
      "source": [
        "from sympy.printing.latex import LatexPrinter, print_latex\n"
      ],
      "metadata": {
        "id": "hcoxM7xkp-vI"
      },
      "execution_count": 10,
      "outputs": []
    },
    {
      "cell_type": "code",
      "source": [
        "smtlib_code(_)"
      ],
      "metadata": {
        "colab": {
          "base_uri": "https://localhost:8080/",
          "height": 35
        },
        "id": "0qbd4HmXp_6f",
        "outputId": "82477c02-3275-4069-cdbd-39bf8ea07d89"
      },
      "execution_count": 11,
      "outputs": [
        {
          "output_type": "execute_result",
          "data": {
            "text/plain": [
              "'(declare-const A Bool)\\n(declare-const B Bool)\\n(declare-const CI Bool)\\n(assert (not (xor A B CI)))'"
            ],
            "application/vnd.google.colaboratory.intrinsic+json": {
              "type": "string"
            }
          },
          "metadata": {},
          "execution_count": 11
        }
      ]
    },
    {
      "cell_type": "code",
      "source": [
        "e2 = ~((A&B)|(A&CI)|(B&CI))\n",
        "e1 = ~((A^B)^CI)"
      ],
      "metadata": {
        "id": "azBGio5Hql8Q"
      },
      "execution_count": 12,
      "outputs": []
    },
    {
      "cell_type": "code",
      "source": [
        "smtlib_code(e2)"
      ],
      "metadata": {
        "colab": {
          "base_uri": "https://localhost:8080/",
          "height": 35
        },
        "id": "2Zz8xukKuT3H",
        "outputId": "d4cfbe79-82ec-4aa5-d63f-431125711249"
      },
      "execution_count": 13,
      "outputs": [
        {
          "output_type": "execute_result",
          "data": {
            "text/plain": [
              "'(declare-const A Bool)\\n(declare-const B Bool)\\n(declare-const CI Bool)\\n(assert (not (or (and A B) (and A CI) (and B CI))))'"
            ],
            "application/vnd.google.colaboratory.intrinsic+json": {
              "type": "string"
            }
          },
          "metadata": {},
          "execution_count": 13
        }
      ]
    },
    {
      "cell_type": "code",
      "source": [
        "A1,A2,A3 = symbols(\"A1,A2,A3\", bool=True)"
      ],
      "metadata": {
        "id": "XwA_IjzZu4FQ"
      },
      "execution_count": 14,
      "outputs": []
    },
    {
      "cell_type": "code",
      "source": [
        "X=A1&A2"
      ],
      "metadata": {
        "id": "lJ-prbYQu-2W"
      },
      "execution_count": 15,
      "outputs": []
    },
    {
      "cell_type": "code",
      "source": [
        "smtlib_code(X, auto_declare=False, auto_assert=False)"
      ],
      "metadata": {
        "colab": {
          "base_uri": "https://localhost:8080/",
          "height": 35
        },
        "id": "lFW5kFYfvHm1",
        "outputId": "2cf0aefe-05f8-4df4-da2d-7b3b53b58b4c"
      },
      "execution_count": 16,
      "outputs": [
        {
          "output_type": "execute_result",
          "data": {
            "text/plain": [
              "'(and A1 A2)'"
            ],
            "application/vnd.google.colaboratory.intrinsic+json": {
              "type": "string"
            }
          },
          "metadata": {},
          "execution_count": 16
        }
      ]
    },
    {
      "cell_type": "code",
      "source": [
        "from sympy.logic import And, Or, Nand, Not, gateinputcount\n"
      ],
      "metadata": {
        "id": "QeNcuNxQyJ1o"
      },
      "execution_count": 17,
      "outputs": []
    },
    {
      "cell_type": "code",
      "source": [
        "gateinputcount(X)"
      ],
      "metadata": {
        "colab": {
          "base_uri": "https://localhost:8080/",
          "height": 37
        },
        "id": "RGq26t-Jqcik",
        "outputId": "24552a56-5a9c-4eb9-a879-8c257f8c600a"
      },
      "execution_count": 18,
      "outputs": [
        {
          "output_type": "execute_result",
          "data": {
            "text/plain": [
              "2"
            ],
            "text/latex": "$\\displaystyle 2$"
          },
          "metadata": {},
          "execution_count": 18
        }
      ]
    },
    {
      "cell_type": "code",
      "source": [
        "utilities.misc.func_name(X, short=False)"
      ],
      "metadata": {
        "colab": {
          "base_uri": "https://localhost:8080/",
          "height": 35
        },
        "id": "1-k8Lg63qwKY",
        "outputId": "7c81f801-739b-4138-e587-efaedfc95989"
      },
      "execution_count": 19,
      "outputs": [
        {
          "output_type": "execute_result",
          "data": {
            "text/plain": [
              "'And'"
            ],
            "application/vnd.google.colaboratory.intrinsic+json": {
              "type": "string"
            }
          },
          "metadata": {},
          "execution_count": 19
        }
      ]
    },
    {
      "cell_type": "code",
      "source": [
        "\n",
        "A00,A10,A20 = symbols(\"A00,A10,A20\", bool=True)\n",
        "eq2 = A00&A10&A20"
      ],
      "metadata": {
        "id": "h1G32tJcsLm4"
      },
      "execution_count": 22,
      "outputs": []
    },
    {
      "cell_type": "code",
      "source": [
        "print_st = f\"{gateinputcount(eq2)}-Input {utilities.misc.func_name(eq2, short=False)}\"\n",
        "print_st"
      ],
      "metadata": {
        "colab": {
          "base_uri": "https://localhost:8080/",
          "height": 35
        },
        "id": "F4K-pkM9sRE3",
        "outputId": "279b07f9-2f12-438f-a65e-cbd49d5a1f15"
      },
      "execution_count": 25,
      "outputs": [
        {
          "output_type": "execute_result",
          "data": {
            "text/plain": [
              "'3-Input And'"
            ],
            "application/vnd.google.colaboratory.intrinsic+json": {
              "type": "string"
            }
          },
          "metadata": {},
          "execution_count": 25
        }
      ]
    },
    {
      "cell_type": "code",
      "source": [
        "A1,A2,B = symbols(\"A1,A2,B\", bool=True)\n",
        "X=!((A1&A2)|B)"
      ],
      "metadata": {
        "id": "pGOSdyGntDka"
      },
      "execution_count": 31,
      "outputs": []
    },
    {
      "cell_type": "code",
      "source": [
        "  translate(X)\n",
        "#print_st = f\"-Input {utilities.misc.func_name(X, short=False)}\"\n",
        "#print_st"
      ],
      "metadata": {
        "colab": {
          "base_uri": "https://localhost:8080/",
          "height": 176
        },
        "id": "LILGPd1btGUm",
        "outputId": "ae9ffa7d-6a12-4138-94dd-258d0937538e"
      },
      "execution_count": 37,
      "outputs": [
        {
          "output_type": "error",
          "ename": "NameError",
          "evalue": "name 'translate' is not defined",
          "traceback": [
            "\u001b[0;31m---------------------------------------------------------------------------\u001b[0m",
            "\u001b[0;31mNameError\u001b[0m                                 Traceback (most recent call last)",
            "\u001b[0;32m<ipython-input-37-d20d74e1e161>\u001b[0m in \u001b[0;36m<cell line: 1>\u001b[0;34m()\u001b[0m\n\u001b[0;32m----> 1\u001b[0;31m \u001b[0mtranslate\u001b[0m\u001b[0;34m(\u001b[0m\u001b[0mX\u001b[0m\u001b[0;34m)\u001b[0m\u001b[0;34m\u001b[0m\u001b[0;34m\u001b[0m\u001b[0m\n\u001b[0m\u001b[1;32m      2\u001b[0m \u001b[0;31m#print_st = f\"-Input {utilities.misc.func_name(X, short=False)}\"\u001b[0m\u001b[0;34m\u001b[0m\u001b[0;34m\u001b[0m\u001b[0m\n\u001b[1;32m      3\u001b[0m \u001b[0;31m#print_st\u001b[0m\u001b[0;34m\u001b[0m\u001b[0;34m\u001b[0m\u001b[0m\n",
            "\u001b[0;31mNameError\u001b[0m: name 'translate' is not defined"
          ]
        }
      ]
    }
  ]
}